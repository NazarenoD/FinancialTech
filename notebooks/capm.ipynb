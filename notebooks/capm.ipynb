{
 "cells": [
  {
   "cell_type": "markdown",
   "metadata": {},
   "source": [
    "## requirements"
   ]
  },
  {
   "cell_type": "code",
   "execution_count": 58,
   "metadata": {},
   "outputs": [],
   "source": [
    "import pandas as pd\n",
    "import numpy as np\n",
    "#pip install pandas-datareader\n",
    "from pandas_datareader import data\n",
    "\n",
    "from typing import List"
   ]
  },
  {
   "cell_type": "markdown",
   "metadata": {},
   "source": [
    "## minimum variance model"
   ]
  },
  {
   "cell_type": "markdown",
   "metadata": {},
   "source": [
    "The variance of a portfolio of financial assets will be minimized, yielding the percentage of ownership in each asset for a determined required level of return."
   ]
  },
  {
   "cell_type": "markdown",
   "metadata": {},
   "source": [
    "the algorithm is expressed below\n",
    "$$ Min_{w_{i}}V_{p} \\rightarrow L_{\\left\\{w_{i}\\right\\},\\lambda_{1}\\lambda_{2}}=\\sum_{j=1}^n\\sum_{j=1}^n w_{i}w_{j}+\\lambda_{1}\\left[ \\sum_{i=1}^n w_{i}E\\left(R_{i}\\right)- E_{0}\\right]+\\lambda_{2}\\left[ \\sum_{i=1}^n w_{i}- 1\\right] $$\n",
    "\n",
    "$$ \\frac{\\partial L_{\\left\\{w_{i}\\right\\},\\lambda_{1}\\lambda_{2}}}{\\partial w_{i}}=\\sum_{j=1}^nw_{j}\\sigma_{ij}+\\lambda_{1}E\\left(R_{i}\\right)+\\lambda_{2}=0 $$\n",
    "\n",
    "$$ \\frac{\\partial L_{\\left\\{w_{i}\\right\\},\\lambda_{1}\\lambda_{2}}}{\\partial \\lambda_{1}}=\\left[ \\sum_{i=1}^n w_{i}E\\left(R_{i}\\right)- E_{0}\\right]=0 $$\n",
    "\n",
    "$$ \\frac{\\partial L_{\\left\\{w_{i}\\right\\},\\lambda_{1}\\lambda_{2}}}{\\partial \\lambda_{2}}=\\left[ \\sum_{i=1}^n w_{i}- 1\\right] $$\n",
    "\n",
    "$$ \\begin{bmatrix}\\left[2\\sigma\\right] & E\\left(R\\right) & 1 \\\\E\\left(R\\right) & 0 & 0 \\\\ 1 & 0 & 0\\end{bmatrix}\\begin{bmatrix}\\left[W\\right]  \\\\ \\lambda_{1} \\\\ \\lambda_{2} \\end{bmatrix}=\\begin{bmatrix}0  \\\\ E_{0} \\\\ 1 \\end{bmatrix} $$"
   ]
  },
  {
   "cell_type": "markdown",
   "metadata": {},
   "source": [
    "#### code"
   ]
  },
  {
   "cell_type": "code",
   "execution_count": 89,
   "metadata": {},
   "outputs": [],
   "source": [
    "def rate(df):\n",
    "    dfr = pd.DataFrame()\n",
    "    for i in df.columns.values:\n",
    "        dfr[f\"{i}\"] = df[f\"{i}\"] / df[f\"{i}\"].shift(1) - 1\n",
    "    return dfr\n",
    "\n",
    "\n",
    "def get_df(tikets:List[str],date:str)->dict:\n",
    "    df = pd.DataFrame()\n",
    "    invalid_tikets = []\n",
    "    for i in tikets:\n",
    "        try:\n",
    "            df[f'{i}'] = data.DataReader(i,'yahoo',date)['Close']\n",
    "        except:\n",
    "            invalid_tikets.append(i)\n",
    "    return {'dfr':rate(df),'df':df,'invalid_tikets':invalid_tikets}\n"
   ]
  },
  {
   "cell_type": "code",
   "execution_count": 107,
   "metadata": {},
   "outputs": [],
   "source": [
    "\n",
    "def VM (R,dfr):\n",
    "    vm_matrix=2*dfr.cov()\n",
    "    vm_matrix[\"E(R)\"]=dfr.mean()\n",
    "    vm_matrix[\"w\"]=1\n",
    "    vm_matrix.loc[-2]=dfr.mean()\n",
    "    vm_matrix.loc[-1]=1\n",
    "    vm_matrix[\"w\"][-2]=0\n",
    "    vm_matrix[\"w\"][-1]=0\n",
    "    vm_matrix['E(R)'][-2]=0\n",
    "    vm_matrix['E(R)'][-1]=0\n",
    "    vm_matrix.rename(index={-2:'E(R)',-1:'w'}, inplace=True)\n",
    "    vm_matrix_inv = pd.DataFrame(np.linalg.inv(vm_matrix.values), vm_matrix.columns, vm_matrix.index)\n",
    "    vm_matrix_inv[\"w*\"]=vm_matrix_inv[\"E(R)\"]*(((1+R)**(1/252)-1))+vm_matrix_inv[\"w\"]\n",
    "    weight=vm_matrix_inv[\"w*\"][:-2]\n",
    "    return weight.to_dict()"
   ]
  },
  {
   "cell_type": "code",
   "execution_count": 90,
   "metadata": {},
   "outputs": [],
   "source": [
    "close = get_df(['TSLA','GOOG','AAPL'],'2021-1-1')\n",
    "VM(0.1,close['dfr'])"
   ]
  }
 ],
 "metadata": {
  "kernelspec": {
   "display_name": "Python 3.10.5 64-bit",
   "language": "python",
   "name": "python3"
  },
  "language_info": {
   "codemirror_mode": {
    "name": "ipython",
    "version": 3
   },
   "file_extension": ".py",
   "mimetype": "text/x-python",
   "name": "python",
   "nbconvert_exporter": "python",
   "pygments_lexer": "ipython3",
   "version": "3.10.5"
  },
  "orig_nbformat": 4,
  "vscode": {
   "interpreter": {
    "hash": "c63d8c7d738c2960218a10995aedf0a7f67a49a231e71037adf0440953cdb45b"
   }
  }
 },
 "nbformat": 4,
 "nbformat_minor": 2
}
